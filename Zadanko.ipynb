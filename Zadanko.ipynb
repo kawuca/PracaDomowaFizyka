{
 "cells": [
  {
   "cell_type": "code",
   "execution_count": 1,
   "id": "8d863ab1-edac-4467-b61c-28a1b8ba50da",
   "metadata": {},
   "outputs": [],
   "source": [
    "import sympy as sp\n",
    "import numpy as np\n",
    "from scipy.integrate import quad\n",
    "from scipy.stats import norm\n",
    "import matplotlib.pyplot as plt\n",
    "from sympy.utilities import lambdify\n",
    "from matplotlib.animation import FuncAnimation\n",
    "from IPython.display import HTML\n",
    "from sympy import solve"
   ]
  },
  {
   "cell_type": "code",
   "execution_count": 2,
   "id": "a0fb8791-0d9d-4295-920a-64254e3327c4",
   "metadata": {},
   "outputs": [],
   "source": [
    "sp.init_printing()"
   ]
  },
  {
   "cell_type": "code",
   "execution_count": 3,
   "id": "45f22b75-2149-43e4-a569-4bec1b5ce39f",
   "metadata": {},
   "outputs": [
    {
     "data": {
      "image/png": "[encoded data removed]",
      "text/latex": [
       "$\\displaystyle \\left( x, \\  k, \\  a, \\  m, \\  t, \\  \\hbar, \\  n, \\  \\psi{\\left(x \\right)}\\right)$"
      ],
      "text/plain": [
       "(x, k, a, m, t, h̅, n, ψ(x))"
      ]
     },
     "execution_count": 3,
     "metadata": {},
     "output_type": "execute_result"
    }
   ],
   "source": [
    "x = sp.Symbol('x', real=True)\n",
    "k = sp.Symbol('k', real=True, positive=True)\n",
    "a = sp.Symbol('a', real=True)\n",
    "m = sp.Symbol('m', real=True, positive=True)\n",
    "t = sp.Symbol('t', real=True, positive=True)\n",
    "h = sp.Symbol('hbar', real=True, positive=True)\n",
    "n = sp.Symbol('n', integer=True, nonzero=True)\n",
    "psi = sp.Function('psi')\n",
    "\n",
    "x, k, a, m, t, h, n, psi(x)"
   ]
  },
  {
   "cell_type": "code",
   "execution_count": 4,
   "id": "06949f37-1bbd-4af9-b024-132970aa9cc2",
   "metadata": {},
   "outputs": [
    {
     "data": {
      "image/png": "[encoded data removed]",
      "text/latex": [
       "$\\displaystyle \\frac{d^{2}}{d x^{2}} \\psi{\\left(x \\right)}$"
      ],
      "text/plain": [
       "  2      \n",
       " d       \n",
       "───(ψ(x))\n",
       "  2      \n",
       "dx       "
      ]
     },
     "execution_count": 4,
     "metadata": {},
     "output_type": "execute_result"
    }
   ],
   "source": [
    "psi(x).diff(x, x)"
   ]
  },
  {
   "cell_type": "code",
   "execution_count": 5,
   "id": "a1edac3b-b5bc-4a37-9694-ad793f7d13e9",
   "metadata": {},
   "outputs": [
    {
     "data": {
      "image/png": "[encoded data removed]",
      "text/latex": [
       "$\\displaystyle - k^{2} \\psi{\\left(x \\right)}$"
      ],
      "text/plain": [
       "  2     \n",
       "-k ⋅ψ(x)"
      ]
     },
     "execution_count": 5,
     "metadata": {},
     "output_type": "execute_result"
    }
   ],
   "source": [
    "-k**2 * psi(x)"
   ]
  },
  {
   "cell_type": "code",
   "execution_count": 6,
   "id": "2c3faa57-0435-4f51-bac0-e14d331339c3",
   "metadata": {},
   "outputs": [
    {
     "data": {
      "image/png": "[encoded data removed]",
      "text/latex": [
       "$\\displaystyle \\frac{d^{2}}{d x^{2}} \\psi{\\left(x \\right)} = - k^{2} \\psi{\\left(x \\right)}$"
      ],
      "text/plain": [
       "  2                 \n",
       " d            2     \n",
       "───(ψ(x)) = -k ⋅ψ(x)\n",
       "  2                 \n",
       "dx                  "
      ]
     },
     "execution_count": 6,
     "metadata": {},
     "output_type": "execute_result"
    }
   ],
   "source": [
    "eq = sp.Eq(psi(x).diff(x, x), -k**2 * psi(x))\n",
    "eq"
   ]
  },
  {
   "cell_type": "code",
   "execution_count": 7,
   "id": "190e7554-ea3d-4199-8423-884a28b4e410",
   "metadata": {},
   "outputs": [
    {
     "data": {
      "image/png": "[encoded data removed]",
      "text/latex": [
       "$\\displaystyle \\psi{\\left(x \\right)} = C_{1} \\sin{\\left(k x \\right)} + C_{2} \\cos{\\left(k x \\right)}$"
      ],
      "text/plain": [
       "ψ(x) = C₁⋅sin(k⋅x) + C₂⋅cos(k⋅x)"
      ]
     },
     "execution_count": 7,
     "metadata": {},
     "output_type": "execute_result"
    }
   ],
   "source": [
    "sp.dsolve(eq, psi(x))"
   ]
  },
  {
   "cell_type": "code",
   "execution_count": 8,
   "id": "96a5cb15-a29e-4d93-bcdd-10153fb54f62",
   "metadata": {},
   "outputs": [
    {
     "data": {
      "image/png": "[encoded data removed]",
      "text/latex": [
       "$\\displaystyle \\psi{\\left(x \\right)} = 0$"
      ],
      "text/plain": [
       "ψ(x) = 0"
      ]
     },
     "execution_count": 8,
     "metadata": {},
     "output_type": "execute_result"
    }
   ],
   "source": [
    "sp.dsolve(eq, psi(x), ics={psi(0): 0, psi(a): 0})"
   ]
  },
  {
   "cell_type": "code",
   "execution_count": 9,
   "id": "5ddeb467-79b7-49da-9483-84e288cb4295",
   "metadata": {},
   "outputs": [
    {
     "data": {
      "image/png": "[encoded data removed]",
      "text/latex": [
       "$\\displaystyle \\psi{\\left(x \\right)} = C_{1} \\sin{\\left(k x \\right)}$"
      ],
      "text/plain": [
       "ψ(x) = C₁⋅sin(k⋅x)"
      ]
     },
     "execution_count": 9,
     "metadata": {},
     "output_type": "execute_result"
    }
   ],
   "source": [
    "sol = sp.dsolve(eq, psi(x), ics={psi(0): 0})\n",
    "sol"
   ]
  },
  {
   "cell_type": "code",
   "execution_count": 10,
   "id": "08278768-6fe1-45df-b20a-863624fd6a1a",
   "metadata": {},
   "outputs": [
    {
     "data": {
      "image/png": "[encoded data removed]",
      "text/latex": [
       "$\\displaystyle \\psi{\\left(x \\right)} = C_{1} \\sin{\\left(\\frac{\\pi n x}{a} \\right)}$"
      ],
      "text/plain": [
       "             ⎛π⋅n⋅x⎞\n",
       "ψ(x) = C₁⋅sin⎜─────⎟\n",
       "             ⎝  a  ⎠"
      ]
     },
     "execution_count": 10,
     "metadata": {},
     "output_type": "execute_result"
    }
   ],
   "source": [
    "sol = sol.subs(k, n * sp.pi / a)\n",
    "sol"
   ]
  },
  {
   "cell_type": "code",
   "execution_count": 11,
   "id": "ba303da2-db9c-42b3-aa40-7969d3afce7e",
   "metadata": {},
   "outputs": [
    {
     "data": {
      "image/png": "[encoded data removed]",
      "text/latex": [
       "$\\displaystyle \\left( \\psi{\\left(x \\right)}, \\  C_{1} \\sin{\\left(\\frac{\\pi n x}{a} \\right)}\\right)$"
      ],
      "text/plain": [
       "⎛            ⎛π⋅n⋅x⎞⎞\n",
       "⎜ψ(x), C₁⋅sin⎜─────⎟⎟\n",
       "⎝            ⎝  a  ⎠⎠"
      ]
     },
     "execution_count": 11,
     "metadata": {},
     "output_type": "execute_result"
    }
   ],
   "source": [
    "sol.lhs, sol.rhs"
   ]
  },
  {
   "cell_type": "code",
   "execution_count": 12,
   "id": "028c4752-f891-41e5-92ed-2cea79dae7a0",
   "metadata": {},
   "outputs": [
    {
     "data": {
      "image/png": "[encoded data removed]",
      "text/latex": [
       "$\\displaystyle \\psi{\\left(x \\right)} = \\sqrt{2} \\sqrt{\\frac{1}{a}} \\sin{\\left(\\frac{\\pi n x}{a} \\right)}$"
      ],
      "text/plain": [
       "              ___           \n",
       "             ╱ 1     ⎛π⋅n⋅x⎞\n",
       "ψ(x) = √2⋅  ╱  ─ ⋅sin⎜─────⎟\n",
       "          ╲╱   a     ⎝  a  ⎠"
      ]
     },
     "execution_count": 12,
     "metadata": {},
     "output_type": "execute_result"
    }
   ],
   "source": [
    "sol = sol.subs(sp.Symbol('C1'), sp.sqrt(2 / a))\n",
    "sol"
   ]
  },
  {
   "cell_type": "code",
   "execution_count": 13,
   "id": "00c48369-5261-4694-a47c-fc8808324a7e",
   "metadata": {},
   "outputs": [],
   "source": [
    "#Spradzić, czy ta zasada nieoznaczoności jest faktycznie dla tej studni potencjału spełniona."
   ]
  },
  {
   "cell_type": "code",
   "execution_count": 15,
   "id": "fd3bde9e-a7f0-42cc-872b-b386788087ad",
   "metadata": {},
   "outputs": [
    {
     "data": {
      "image/png": "[encoded data removed]",
      "text/latex": [
       "$\\displaystyle \\frac{2 x \\sin^{2}{\\left(\\frac{\\pi n x}{a} \\right)}}{a}$"
      ],
      "text/plain": [
       "       2⎛π⋅n⋅x⎞\n",
       "2⋅x⋅sin ⎜─────⎟\n",
       "        ⎝  a  ⎠\n",
       "───────────────\n",
       "       a       "
      ]
     },
     "execution_count": 15,
     "metadata": {},
     "output_type": "execute_result"
    }
   ],
   "source": [
    "sol.rhs * x * sol.rhs"
   ]
  },
  {
   "cell_type": "code",
   "execution_count": 16,
   "id": "8382d546-2c6a-42b8-979e-5d9abdf39b0a",
   "metadata": {},
   "outputs": [
    {
     "data": {
      "image/png": "[encoded data removed]",
      "text/latex": [
       "$\\displaystyle \\frac{a}{2}$"
      ],
      "text/plain": [
       "a\n",
       "─\n",
       "2"
      ]
     },
     "execution_count": 16,
     "metadata": {},
     "output_type": "execute_result"
    }
   ],
   "source": [
    "x_jeden = sp.integrate(sol.rhs * x * sol.rhs, (x, 0, a)).simplify()\n",
    "x_jeden"
   ]
  },
  {
   "cell_type": "code",
   "execution_count": 17,
   "id": "e6032e97-8040-4e2a-9f7b-d7dfa98263ee",
   "metadata": {},
   "outputs": [
    {
     "data": {
      "image/png": "[encoded data removed]",
      "text/latex": [
       "$\\displaystyle \\frac{a^{2}}{3} - \\frac{a^{2}}{2 \\pi^{2} n^{2}}$"
      ],
      "text/plain": [
       " 2       2  \n",
       "a       a   \n",
       "── - ───────\n",
       "3       2  2\n",
       "     2⋅π ⋅n "
      ]
     },
     "execution_count": 17,
     "metadata": {},
     "output_type": "execute_result"
    }
   ],
   "source": [
    "x_dwa=sp.integrate(sol.rhs * x**2 * sol.rhs, (x, 0, a)).simplify()\n",
    "x_dwa"
   ]
  },
  {
   "cell_type": "code",
   "execution_count": 19,
   "id": "a61d3ef2-f042-4571-b9dd-0ba05b7beb0b",
   "metadata": {},
   "outputs": [
    {
     "data": {
      "image/png": "[encoded data removed]",
      "text/latex": [
       "$\\displaystyle \\sqrt{\\frac{a^{2}}{12} - \\frac{a^{2}}{2 \\pi^{2} n^{2}}}$"
      ],
      "text/plain": [
       "      ______________\n",
       "     ╱  2       2   \n",
       "    ╱  a       a    \n",
       "   ╱   ── - ─────── \n",
       "  ╱    12      2  2 \n",
       "╲╱          2⋅π ⋅n  "
      ]
     },
     "execution_count": 19,
     "metadata": {},
     "output_type": "execute_result"
    }
   ],
   "source": [
    "#Sprawdzić, czy ta zasada nieoznaczoności jest faktycznie dla tej studni potencjału spełniona.\n",
    "#Liczymy wariancjeX\n",
    "wariancja_x = sp.sqrt(x_dwa - x_jeden**2)\n",
    "wariancja_x"
   ]
  },
  {
   "cell_type": "code",
   "execution_count": 20,
   "id": "14deb4ec-3e55-401f-ae35-8a99e4ab654e",
   "metadata": {},
   "outputs": [
    {
     "data": {
      "image/png": "[encoded data removed]",
      "text/latex": [
       "$\\displaystyle - \\frac{2 i \\pi \\hbar n \\sin{\\left(\\frac{\\pi n x}{a} \\right)} \\cos{\\left(\\frac{\\pi n x}{a} \\right)}}{a a}$"
      ],
      "text/plain": [
       "              ⎛π⋅n⋅x⎞    ⎛π⋅n⋅x⎞ \n",
       "-2⋅ⅈ⋅π⋅h̅⋅n⋅sin⎜─────⎟⋅cos⎜─────⎟ \n",
       "              ⎝  a  ⎠    ⎝  a  ⎠ \n",
       "─────────────────────────────────\n",
       "               a⋅a               "
      ]
     },
     "execution_count": 20,
     "metadata": {},
     "output_type": "execute_result"
    }
   ],
   "source": [
    "#wyliczamy teraz calke dla pedu\n",
    "i = sp.I\n",
    "i\n",
    "sol.rhs * -i * h * sol.rhs.diff(x)"
   ]
  },
  {
   "cell_type": "code",
   "execution_count": 21,
   "id": "73847041-602e-4dd9-bf29-74a3ed846dc1",
   "metadata": {},
   "outputs": [
    {
     "data": {
      "image/png": "[encoded data removed]",
      "text/latex": [
       "$\\displaystyle 0$"
      ],
      "text/plain": [
       "0"
      ]
     },
     "execution_count": 21,
     "metadata": {},
     "output_type": "execute_result"
    }
   ],
   "source": [
    "ped_jeden = sp.integrate(sol.rhs * -i * h * sol.rhs.diff(x), (x, 0, a))\n",
    "ped_jeden"
   ]
  },
  {
   "cell_type": "code",
   "execution_count": 22,
   "id": "a639177e-7238-4597-a17a-3b2f116be3ff",
   "metadata": {},
   "outputs": [
    {
     "data": {
      "image/png": "[encoded data removed]",
      "text/latex": [
       "$\\displaystyle \\frac{\\pi^{2} \\hbar^{2} n^{2}}{a^{2}}$"
      ],
      "text/plain": [
       " 2  2  2\n",
       "π ⋅h̅ ⋅n \n",
       "────────\n",
       "    2   \n",
       "   a    "
      ]
     },
     "execution_count": 22,
     "metadata": {},
     "output_type": "execute_result"
    }
   ],
   "source": [
    "ped_dwa = sp.integrate(sol.rhs * -h**2 * sol.rhs.diff(x, x), (x, 0, a))\n",
    "ped_dwa"
   ]
  },
  {
   "cell_type": "code",
   "execution_count": 23,
   "id": "cc2bb808-7155-4c12-b95c-067afaa15284",
   "metadata": {},
   "outputs": [
    {
     "data": {
      "image/png": "[encoded data removed]",
      "text/latex": [
       "$\\displaystyle \\frac{\\pi \\hbar \\left|{n}\\right|}{\\left|{a}\\right|}$"
      ],
      "text/plain": [
       "π⋅h̅⋅│n│\n",
       "───────\n",
       "  │a│  "
      ]
     },
     "execution_count": 23,
     "metadata": {},
     "output_type": "execute_result"
    }
   ],
   "source": [
    "wariancja_ped = sp.sqrt(ped_dwa - ped_jeden**2)\n",
    "wariancja_ped"
   ]
  },
  {
   "cell_type": "code",
   "execution_count": 24,
   "id": "872ba454-e6fb-4697-ae25-4bf1ab38513b",
   "metadata": {},
   "outputs": [
    {
     "data": {
      "image/png": "[encoded data removed]",
      "text/latex": [
       "$\\displaystyle \\frac{\\hbar \\sqrt{3 \\pi^{2} n^{2} - 18}}{6}$"
      ],
      "text/plain": [
       "     ______________\n",
       "    ╱    2  2      \n",
       "h̅⋅╲╱  3⋅π ⋅n  - 18 \n",
       "───────────────────\n",
       "         6         "
      ]
     },
     "execution_count": 24,
     "metadata": {},
     "output_type": "execute_result"
    }
   ],
   "source": [
    "iloczyn_wariancji = (wariancja_x * wariancja_ped).simplify()\n",
    "iloczyn_wariancji"
   ]
  },
  {
   "cell_type": "code",
   "execution_count": 25,
   "id": "7856d204-56ff-4cc3-9bef-94dc7157d72b",
   "metadata": {},
   "outputs": [
    {
     "data": {
      "image/png": "[encoded data removed]",
      "text/latex": [
       "$\\displaystyle \\frac{\\hbar \\sqrt{3 \\pi^{2} n^{2} - 18}}{6} > \\frac{\\hbar}{2}$"
      ],
      "text/plain": [
       "     ______________    \n",
       "    ╱    2  2          \n",
       "h̅⋅╲╱  3⋅π ⋅n  - 18    h̅\n",
       "─────────────────── > ─\n",
       "         6            2"
      ]
     },
     "execution_count": 25,
     "metadata": {},
     "output_type": "execute_result"
    }
   ],
   "source": [
    "iloczyn_wariancji > h/2"
   ]
  },
  {
   "cell_type": "markdown",
   "id": "582b8ab6-c03d-4227-9eac-ad92f52f0a70",
   "metadata": {},
   "source": [
    "$$\\sigma_X\\sigma_P=\\frac{\\hbar\\sqrt{3\\pi ^{2}n^{2}-18}}{6}\\geq \\frac{\\hbar}{2}$$\n",
    "Obie strony nierówności możemy podzielić przez $\\hbar$ i otrzymamy\n",
    "$$\\frac{\\sqrt{3\\pi ^{2}n^{2}-18}}{6}\\geq \\frac{1}{2}$$\n",
    "Wstawiając za n najmniejszą wartość, czyli 1 otrzymamy nierówność\n",
    "$$0,5679\\geq 0,5$$\n",
    "Widać, że nierówność jest prawdziwa, zatem zasada nieoznaczoności jest spełniona i będzie także spełniona dla dowolnego n"
   ]
  }
 ],
 "metadata": {
  "kernelspec": {
   "display_name": "Python 3 (ipykernel)",
   "language": "python",
   "name": "python3"
  },
  "language_info": {
   "codemirror_mode": {
    "name": "ipython",
    "version": 3
   },
   "file_extension": ".py",
   "mimetype": "text/x-python",
   "name": "python",
   "nbconvert_exporter": "python",
   "pygments_lexer": "ipython3",
   "version": "3.10.4"
  }
 },
 "nbformat": 4,
 "nbformat_minor": 5
}
